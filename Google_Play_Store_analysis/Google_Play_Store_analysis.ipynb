{
 "cells": [
  {
   "cell_type": "markdown",
   "id": "a3026714",
   "metadata": {},
   "source": [
    "## Анализ данных из данные из Google Play Store"
   ]
  },
  {
   "cell_type": "markdown",
   "id": "f2290a6c",
   "metadata": {},
   "source": [
    "**Описание данных**\n",
    "\n",
    "- `App` — название приложения\n",
    "\n",
    "- `Category` — категория, к которой относится приложение\n",
    "\n",
    "- `Rating` — рейтинг пользователей\n",
    "\n",
    "- `Reviews` — количество отзывов пользователей о приложении\n",
    "\n",
    "- `Size` — размер приложения\n",
    "\n",
    "- `Installs` — количество загрузок/установок приложения пользователями\n",
    "\n",
    "- `Type` — платное или бесплатное приложение\n",
    "\n",
    "- `Price` — цена приложения\n",
    "\n",
    "- `Content Rating` — возрастная группа, на которую ориентировано приложение\n",
    "\n",
    "- `Genres` — принадлежность приложения к нескольким жанрам\n",
    "\n",
    "- `Last Updated` — дата последнего обновления приложения в Play Store\n",
    "\n",
    "- Current Ver — текущая версия приложения в Play Store\n",
    "\n",
    "- Android Ver — минимальная требуемая версия Android"
   ]
  },
  {
   "cell_type": "code",
   "execution_count": 257,
   "id": "77a2f497",
   "metadata": {},
   "outputs": [],
   "source": [
    "import pandas as pd"
   ]
  },
  {
   "cell_type": "code",
   "execution_count": 258,
   "id": "df6113e9",
   "metadata": {},
   "outputs": [],
   "source": [
    "df = pd.read_csv('playstore.csv', index_col=0)"
   ]
  },
  {
   "cell_type": "code",
   "execution_count": 259,
   "id": "990537ff",
   "metadata": {},
   "outputs": [
    {
     "data": {
      "text/html": [
       "<div>\n",
       "<style scoped>\n",
       "    .dataframe tbody tr th:only-of-type {\n",
       "        vertical-align: middle;\n",
       "    }\n",
       "\n",
       "    .dataframe tbody tr th {\n",
       "        vertical-align: top;\n",
       "    }\n",
       "\n",
       "    .dataframe thead th {\n",
       "        text-align: right;\n",
       "    }\n",
       "</style>\n",
       "<table border=\"1\" class=\"dataframe\">\n",
       "  <thead>\n",
       "    <tr style=\"text-align: right;\">\n",
       "      <th></th>\n",
       "      <th>App</th>\n",
       "      <th>Category</th>\n",
       "      <th>Rating</th>\n",
       "      <th>Reviews</th>\n",
       "      <th>Size</th>\n",
       "      <th>Installs</th>\n",
       "      <th>Type</th>\n",
       "      <th>Price</th>\n",
       "      <th>Content Rating</th>\n",
       "      <th>Genres</th>\n",
       "      <th>Last Updated</th>\n",
       "      <th>Current Ver</th>\n",
       "      <th>Android Ver</th>\n",
       "    </tr>\n",
       "  </thead>\n",
       "  <tbody>\n",
       "    <tr>\n",
       "      <th>0</th>\n",
       "      <td>Photo Editor &amp; Candy Camera &amp; Grid &amp; ScrapBook</td>\n",
       "      <td>ART_AND_DESIGN</td>\n",
       "      <td>4.1</td>\n",
       "      <td>159</td>\n",
       "      <td>19M</td>\n",
       "      <td>10,000+</td>\n",
       "      <td>Free</td>\n",
       "      <td>0</td>\n",
       "      <td>Everyone</td>\n",
       "      <td>Art &amp; Design</td>\n",
       "      <td>January 7, 2018</td>\n",
       "      <td>1.0.0</td>\n",
       "      <td>4.0.3 and up</td>\n",
       "    </tr>\n",
       "    <tr>\n",
       "      <th>1</th>\n",
       "      <td>Coloring book moana</td>\n",
       "      <td>ART_AND_DESIGN</td>\n",
       "      <td>3.9</td>\n",
       "      <td>967</td>\n",
       "      <td>14M</td>\n",
       "      <td>500,000+</td>\n",
       "      <td>Free</td>\n",
       "      <td>0</td>\n",
       "      <td>Everyone</td>\n",
       "      <td>Art &amp; Design;Pretend Play</td>\n",
       "      <td>January 15, 2018</td>\n",
       "      <td>2.0.0</td>\n",
       "      <td>4.0.3 and up</td>\n",
       "    </tr>\n",
       "    <tr>\n",
       "      <th>2</th>\n",
       "      <td>U Launcher Lite – FREE Live Cool Themes, Hide ...</td>\n",
       "      <td>ART_AND_DESIGN</td>\n",
       "      <td>4.7</td>\n",
       "      <td>87510</td>\n",
       "      <td>8.7M</td>\n",
       "      <td>5,000,000+</td>\n",
       "      <td>Free</td>\n",
       "      <td>0</td>\n",
       "      <td>Everyone</td>\n",
       "      <td>Art &amp; Design</td>\n",
       "      <td>August 1, 2018</td>\n",
       "      <td>1.2.4</td>\n",
       "      <td>4.0.3 and up</td>\n",
       "    </tr>\n",
       "    <tr>\n",
       "      <th>3</th>\n",
       "      <td>Sketch - Draw &amp; Paint</td>\n",
       "      <td>ART_AND_DESIGN</td>\n",
       "      <td>4.5</td>\n",
       "      <td>215644</td>\n",
       "      <td>25M</td>\n",
       "      <td>50,000,000+</td>\n",
       "      <td>Free</td>\n",
       "      <td>0</td>\n",
       "      <td>Teen</td>\n",
       "      <td>Art &amp; Design</td>\n",
       "      <td>June 8, 2018</td>\n",
       "      <td>Varies with device</td>\n",
       "      <td>4.2 and up</td>\n",
       "    </tr>\n",
       "    <tr>\n",
       "      <th>4</th>\n",
       "      <td>Pixel Draw - Number Art Coloring Book</td>\n",
       "      <td>ART_AND_DESIGN</td>\n",
       "      <td>4.3</td>\n",
       "      <td>967</td>\n",
       "      <td>2.8M</td>\n",
       "      <td>100,000+</td>\n",
       "      <td>Free</td>\n",
       "      <td>0</td>\n",
       "      <td>Everyone</td>\n",
       "      <td>Art &amp; Design;Creativity</td>\n",
       "      <td>June 20, 2018</td>\n",
       "      <td>1.1</td>\n",
       "      <td>4.4 and up</td>\n",
       "    </tr>\n",
       "  </tbody>\n",
       "</table>\n",
       "</div>"
      ],
      "text/plain": [
       "                                                 App        Category  Rating  \\\n",
       "0     Photo Editor & Candy Camera & Grid & ScrapBook  ART_AND_DESIGN     4.1   \n",
       "1                                Coloring book moana  ART_AND_DESIGN     3.9   \n",
       "2  U Launcher Lite – FREE Live Cool Themes, Hide ...  ART_AND_DESIGN     4.7   \n",
       "3                              Sketch - Draw & Paint  ART_AND_DESIGN     4.5   \n",
       "4              Pixel Draw - Number Art Coloring Book  ART_AND_DESIGN     4.3   \n",
       "\n",
       "   Reviews  Size     Installs  Type Price Content Rating  \\\n",
       "0      159   19M      10,000+  Free     0       Everyone   \n",
       "1      967   14M     500,000+  Free     0       Everyone   \n",
       "2    87510  8.7M   5,000,000+  Free     0       Everyone   \n",
       "3   215644   25M  50,000,000+  Free     0           Teen   \n",
       "4      967  2.8M     100,000+  Free     0       Everyone   \n",
       "\n",
       "                      Genres      Last Updated         Current Ver  \\\n",
       "0               Art & Design   January 7, 2018               1.0.0   \n",
       "1  Art & Design;Pretend Play  January 15, 2018               2.0.0   \n",
       "2               Art & Design    August 1, 2018               1.2.4   \n",
       "3               Art & Design      June 8, 2018  Varies with device   \n",
       "4    Art & Design;Creativity     June 20, 2018                 1.1   \n",
       "\n",
       "    Android Ver  \n",
       "0  4.0.3 and up  \n",
       "1  4.0.3 and up  \n",
       "2  4.0.3 and up  \n",
       "3    4.2 and up  \n",
       "4    4.4 and up  "
      ]
     },
     "execution_count": 259,
     "metadata": {},
     "output_type": "execute_result"
    }
   ],
   "source": [
    "df.head()"
   ]
  },
  {
   "cell_type": "markdown",
   "id": "8aa1c7a7",
   "metadata": {},
   "source": [
    "### Исследуем и подготавливаем данные"
   ]
  },
  {
   "cell_type": "code",
   "execution_count": 260,
   "id": "5e6658d5",
   "metadata": {},
   "outputs": [],
   "source": [
    "# переименуем название колонок на названия без пробелов для удобства"
   ]
  },
  {
   "cell_type": "code",
   "execution_count": 261,
   "id": "e90d70de",
   "metadata": {},
   "outputs": [],
   "source": [
    "df.columns = df.columns.str.replace(' ', '_').str.lower()"
   ]
  },
  {
   "cell_type": "code",
   "execution_count": 262,
   "id": "e15f5c93",
   "metadata": {
    "scrolled": true
   },
   "outputs": [
    {
     "data": {
      "text/html": [
       "<div>\n",
       "<style scoped>\n",
       "    .dataframe tbody tr th:only-of-type {\n",
       "        vertical-align: middle;\n",
       "    }\n",
       "\n",
       "    .dataframe tbody tr th {\n",
       "        vertical-align: top;\n",
       "    }\n",
       "\n",
       "    .dataframe thead th {\n",
       "        text-align: right;\n",
       "    }\n",
       "</style>\n",
       "<table border=\"1\" class=\"dataframe\">\n",
       "  <thead>\n",
       "    <tr style=\"text-align: right;\">\n",
       "      <th></th>\n",
       "      <th>app</th>\n",
       "      <th>category</th>\n",
       "      <th>rating</th>\n",
       "      <th>reviews</th>\n",
       "      <th>size</th>\n",
       "      <th>installs</th>\n",
       "      <th>type</th>\n",
       "      <th>price</th>\n",
       "      <th>content_rating</th>\n",
       "      <th>genres</th>\n",
       "      <th>last_updated</th>\n",
       "      <th>current_ver</th>\n",
       "      <th>android_ver</th>\n",
       "    </tr>\n",
       "  </thead>\n",
       "  <tbody>\n",
       "    <tr>\n",
       "      <th>0</th>\n",
       "      <td>Photo Editor &amp; Candy Camera &amp; Grid &amp; ScrapBook</td>\n",
       "      <td>ART_AND_DESIGN</td>\n",
       "      <td>4.1</td>\n",
       "      <td>159</td>\n",
       "      <td>19M</td>\n",
       "      <td>10,000+</td>\n",
       "      <td>Free</td>\n",
       "      <td>0</td>\n",
       "      <td>Everyone</td>\n",
       "      <td>Art &amp; Design</td>\n",
       "      <td>January 7, 2018</td>\n",
       "      <td>1.0.0</td>\n",
       "      <td>4.0.3 and up</td>\n",
       "    </tr>\n",
       "    <tr>\n",
       "      <th>1</th>\n",
       "      <td>Coloring book moana</td>\n",
       "      <td>ART_AND_DESIGN</td>\n",
       "      <td>3.9</td>\n",
       "      <td>967</td>\n",
       "      <td>14M</td>\n",
       "      <td>500,000+</td>\n",
       "      <td>Free</td>\n",
       "      <td>0</td>\n",
       "      <td>Everyone</td>\n",
       "      <td>Art &amp; Design;Pretend Play</td>\n",
       "      <td>January 15, 2018</td>\n",
       "      <td>2.0.0</td>\n",
       "      <td>4.0.3 and up</td>\n",
       "    </tr>\n",
       "  </tbody>\n",
       "</table>\n",
       "</div>"
      ],
      "text/plain": [
       "                                              app        category  rating  \\\n",
       "0  Photo Editor & Candy Camera & Grid & ScrapBook  ART_AND_DESIGN     4.1   \n",
       "1                             Coloring book moana  ART_AND_DESIGN     3.9   \n",
       "\n",
       "   reviews size  installs  type price content_rating  \\\n",
       "0      159  19M   10,000+  Free     0       Everyone   \n",
       "1      967  14M  500,000+  Free     0       Everyone   \n",
       "\n",
       "                      genres      last_updated current_ver   android_ver  \n",
       "0               Art & Design   January 7, 2018       1.0.0  4.0.3 and up  \n",
       "1  Art & Design;Pretend Play  January 15, 2018       2.0.0  4.0.3 and up  "
      ]
     },
     "execution_count": 262,
     "metadata": {},
     "output_type": "execute_result"
    }
   ],
   "source": [
    "df.head(2)"
   ]
  },
  {
   "cell_type": "code",
   "execution_count": 263,
   "id": "42d86de6",
   "metadata": {},
   "outputs": [
    {
     "name": "stdout",
     "output_type": "stream",
     "text": [
      "<class 'pandas.core.frame.DataFrame'>\n",
      "Index: 10840 entries, 0 to 10839\n",
      "Data columns (total 13 columns):\n",
      " #   Column          Non-Null Count  Dtype  \n",
      "---  ------          --------------  -----  \n",
      " 0   app             10840 non-null  object \n",
      " 1   category        10840 non-null  object \n",
      " 2   rating          9366 non-null   float64\n",
      " 3   reviews         10840 non-null  int64  \n",
      " 4   size            10840 non-null  object \n",
      " 5   installs        10840 non-null  object \n",
      " 6   type            10839 non-null  object \n",
      " 7   price           10840 non-null  object \n",
      " 8   content_rating  10840 non-null  object \n",
      " 9   genres          10840 non-null  object \n",
      " 10  last_updated    10840 non-null  object \n",
      " 11  current_ver     10832 non-null  object \n",
      " 12  android_ver     10838 non-null  object \n",
      "dtypes: float64(1), int64(1), object(11)\n",
      "memory usage: 1.2+ MB\n"
     ]
    }
   ],
   "source": [
    "df.info()"
   ]
  },
  {
   "cell_type": "code",
   "execution_count": 264,
   "id": "f5a2c21e",
   "metadata": {},
   "outputs": [
    {
     "data": {
      "text/plain": [
       "app                  0\n",
       "category             0\n",
       "rating            1474\n",
       "reviews              0\n",
       "size                 0\n",
       "installs             0\n",
       "type                 1\n",
       "price                0\n",
       "content_rating       0\n",
       "genres               0\n",
       "last_updated         0\n",
       "current_ver          8\n",
       "android_ver          2\n",
       "dtype: int64"
      ]
     },
     "execution_count": 264,
     "metadata": {},
     "output_type": "execute_result"
    }
   ],
   "source": [
    "# проверим на отсутсвующие значения\n",
    "df.isna().sum()"
   ]
  },
  {
   "cell_type": "code",
   "execution_count": 265,
   "id": "7a180e2f",
   "metadata": {},
   "outputs": [
    {
     "data": {
      "text/plain": [
       "(10840, 13)"
      ]
     },
     "execution_count": 265,
     "metadata": {},
     "output_type": "execute_result"
    }
   ],
   "source": [
    "df.shape"
   ]
  },
  {
   "cell_type": "code",
   "execution_count": 266,
   "id": "dfc1f678",
   "metadata": {},
   "outputs": [
    {
     "data": {
      "text/plain": [
       "app                object\n",
       "category           object\n",
       "rating            float64\n",
       "reviews             int64\n",
       "size               object\n",
       "installs           object\n",
       "type               object\n",
       "price              object\n",
       "content_rating     object\n",
       "genres             object\n",
       "last_updated       object\n",
       "current_ver        object\n",
       "android_ver        object\n",
       "dtype: object"
      ]
     },
     "execution_count": 266,
     "metadata": {},
     "output_type": "execute_result"
    }
   ],
   "source": [
    "df.dtypes"
   ]
  },
  {
   "cell_type": "code",
   "execution_count": 267,
   "id": "5971c8dd",
   "metadata": {},
   "outputs": [],
   "source": [
    "# приведем даты к формату datetime"
   ]
  },
  {
   "cell_type": "code",
   "execution_count": 268,
   "id": "df138d24",
   "metadata": {},
   "outputs": [],
   "source": [
    "df.last_updated = pd.to_datetime(df.last_updated)"
   ]
  },
  {
   "cell_type": "code",
   "execution_count": 269,
   "id": "3c29abe8",
   "metadata": {},
   "outputs": [],
   "source": [
    "# приведем колонку price к типу float\n",
    "df.price = df.price.str.replace(\"$\", \"\").astype(float)"
   ]
  },
  {
   "cell_type": "code",
   "execution_count": 270,
   "id": "4ff1a185",
   "metadata": {},
   "outputs": [
    {
     "data": {
      "text/plain": [
       "price\n",
       "0.00     10040\n",
       "0.99       148\n",
       "2.99       129\n",
       "1.99        73\n",
       "4.99        72\n",
       "         ...  \n",
       "19.90        1\n",
       "1.75         1\n",
       "14.00        1\n",
       "4.85         1\n",
       "1.04         1\n",
       "Name: count, Length: 92, dtype: int64"
      ]
     },
     "execution_count": 270,
     "metadata": {},
     "output_type": "execute_result"
    }
   ],
   "source": [
    "df['price'].value_counts()"
   ]
  },
  {
   "cell_type": "code",
   "execution_count": 271,
   "id": "80626619",
   "metadata": {
    "scrolled": false
   },
   "outputs": [
    {
     "data": {
      "text/plain": [
       "array(['10,000+', '500,000+', '5,000,000+', '50,000,000+', '100,000+',\n",
       "       '50,000+', '1,000,000+', '10,000,000+', '5,000+', '100,000,000+',\n",
       "       '1,000,000,000+', '1,000+', '500,000,000+', '50+', '100+', '500+',\n",
       "       '10+', '1+', '5+', '0+', '0'], dtype=object)"
      ]
     },
     "execution_count": 271,
     "metadata": {},
     "output_type": "execute_result"
    }
   ],
   "source": [
    "\n",
    "df.installs.unique()"
   ]
  },
  {
   "cell_type": "code",
   "execution_count": 272,
   "id": "019c8694",
   "metadata": {},
   "outputs": [],
   "source": [
    "# приведем колонку installs к типу int\n",
    "df.installs = df.installs.str.replace(\"+\", \"\").str.replace(\",\", \"\").astype(int)"
   ]
  },
  {
   "cell_type": "code",
   "execution_count": 273,
   "id": "dc5db4fd",
   "metadata": {
    "scrolled": false
   },
   "outputs": [
    {
     "data": {
      "text/plain": [
       "app                       object\n",
       "category                  object\n",
       "rating                   float64\n",
       "reviews                    int64\n",
       "size                      object\n",
       "installs                   int64\n",
       "type                      object\n",
       "price                    float64\n",
       "content_rating            object\n",
       "genres                    object\n",
       "last_updated      datetime64[ns]\n",
       "current_ver               object\n",
       "android_ver               object\n",
       "dtype: object"
      ]
     },
     "execution_count": 273,
     "metadata": {},
     "output_type": "execute_result"
    }
   ],
   "source": [
    "df.dtypes"
   ]
  },
  {
   "cell_type": "code",
   "execution_count": 274,
   "id": "84f8aa19",
   "metadata": {
    "scrolled": true
   },
   "outputs": [
    {
     "data": {
      "text/html": [
       "<div>\n",
       "<style scoped>\n",
       "    .dataframe tbody tr th:only-of-type {\n",
       "        vertical-align: middle;\n",
       "    }\n",
       "\n",
       "    .dataframe tbody tr th {\n",
       "        vertical-align: top;\n",
       "    }\n",
       "\n",
       "    .dataframe thead th {\n",
       "        text-align: right;\n",
       "    }\n",
       "</style>\n",
       "<table border=\"1\" class=\"dataframe\">\n",
       "  <thead>\n",
       "    <tr style=\"text-align: right;\">\n",
       "      <th></th>\n",
       "      <th>rating</th>\n",
       "      <th>reviews</th>\n",
       "      <th>installs</th>\n",
       "      <th>price</th>\n",
       "      <th>last_updated</th>\n",
       "    </tr>\n",
       "  </thead>\n",
       "  <tbody>\n",
       "    <tr>\n",
       "      <th>count</th>\n",
       "      <td>9366.000000</td>\n",
       "      <td>1.084000e+04</td>\n",
       "      <td>1.084000e+04</td>\n",
       "      <td>10840.000000</td>\n",
       "      <td>10840</td>\n",
       "    </tr>\n",
       "    <tr>\n",
       "      <th>mean</th>\n",
       "      <td>4.191757</td>\n",
       "      <td>4.441529e+05</td>\n",
       "      <td>1.546434e+07</td>\n",
       "      <td>1.027368</td>\n",
       "      <td>2017-11-21 06:43:02.435424256</td>\n",
       "    </tr>\n",
       "    <tr>\n",
       "      <th>min</th>\n",
       "      <td>1.000000</td>\n",
       "      <td>0.000000e+00</td>\n",
       "      <td>0.000000e+00</td>\n",
       "      <td>0.000000</td>\n",
       "      <td>2010-05-21 00:00:00</td>\n",
       "    </tr>\n",
       "    <tr>\n",
       "      <th>25%</th>\n",
       "      <td>4.000000</td>\n",
       "      <td>3.800000e+01</td>\n",
       "      <td>1.000000e+03</td>\n",
       "      <td>0.000000</td>\n",
       "      <td>2017-09-20 00:00:00</td>\n",
       "    </tr>\n",
       "    <tr>\n",
       "      <th>50%</th>\n",
       "      <td>4.300000</td>\n",
       "      <td>2.094000e+03</td>\n",
       "      <td>1.000000e+05</td>\n",
       "      <td>0.000000</td>\n",
       "      <td>2018-05-24 00:00:00</td>\n",
       "    </tr>\n",
       "    <tr>\n",
       "      <th>75%</th>\n",
       "      <td>4.500000</td>\n",
       "      <td>5.477550e+04</td>\n",
       "      <td>5.000000e+06</td>\n",
       "      <td>0.000000</td>\n",
       "      <td>2018-07-20 00:00:00</td>\n",
       "    </tr>\n",
       "    <tr>\n",
       "      <th>max</th>\n",
       "      <td>5.000000</td>\n",
       "      <td>7.815831e+07</td>\n",
       "      <td>1.000000e+09</td>\n",
       "      <td>400.000000</td>\n",
       "      <td>2018-08-08 00:00:00</td>\n",
       "    </tr>\n",
       "    <tr>\n",
       "      <th>std</th>\n",
       "      <td>0.515219</td>\n",
       "      <td>2.927761e+06</td>\n",
       "      <td>8.502936e+07</td>\n",
       "      <td>15.949703</td>\n",
       "      <td>NaN</td>\n",
       "    </tr>\n",
       "  </tbody>\n",
       "</table>\n",
       "</div>"
      ],
      "text/plain": [
       "            rating       reviews      installs         price  \\\n",
       "count  9366.000000  1.084000e+04  1.084000e+04  10840.000000   \n",
       "mean      4.191757  4.441529e+05  1.546434e+07      1.027368   \n",
       "min       1.000000  0.000000e+00  0.000000e+00      0.000000   \n",
       "25%       4.000000  3.800000e+01  1.000000e+03      0.000000   \n",
       "50%       4.300000  2.094000e+03  1.000000e+05      0.000000   \n",
       "75%       4.500000  5.477550e+04  5.000000e+06      0.000000   \n",
       "max       5.000000  7.815831e+07  1.000000e+09    400.000000   \n",
       "std       0.515219  2.927761e+06  8.502936e+07     15.949703   \n",
       "\n",
       "                        last_updated  \n",
       "count                          10840  \n",
       "mean   2017-11-21 06:43:02.435424256  \n",
       "min              2010-05-21 00:00:00  \n",
       "25%              2017-09-20 00:00:00  \n",
       "50%              2018-05-24 00:00:00  \n",
       "75%              2018-07-20 00:00:00  \n",
       "max              2018-08-08 00:00:00  \n",
       "std                              NaN  "
      ]
     },
     "execution_count": 274,
     "metadata": {},
     "output_type": "execute_result"
    }
   ],
   "source": [
    "df.describe()"
   ]
  },
  {
   "cell_type": "code",
   "execution_count": 275,
   "id": "7d541b0e",
   "metadata": {},
   "outputs": [
    {
     "data": {
      "text/plain": [
       "app               9659\n",
       "category            33\n",
       "rating              39\n",
       "reviews           6001\n",
       "size               461\n",
       "installs            20\n",
       "type                 2\n",
       "price               92\n",
       "content_rating       6\n",
       "genres             119\n",
       "last_updated      1377\n",
       "current_ver       2831\n",
       "android_ver         33\n",
       "dtype: int64"
      ]
     },
     "execution_count": 275,
     "metadata": {},
     "output_type": "execute_result"
    }
   ],
   "source": [
    "df.nunique()"
   ]
  },
  {
   "cell_type": "code",
   "execution_count": 276,
   "id": "9b6bb71d",
   "metadata": {},
   "outputs": [],
   "source": [
    "# уберем дубликаты приложений\n",
    "df_unique = df.drop_duplicates(subset=['app']).reset_index()\n",
    "df_unique.drop('index', inplace=True, axis=1)"
   ]
  },
  {
   "cell_type": "code",
   "execution_count": 277,
   "id": "584a2fbc",
   "metadata": {},
   "outputs": [
    {
     "data": {
      "text/html": [
       "<div>\n",
       "<style scoped>\n",
       "    .dataframe tbody tr th:only-of-type {\n",
       "        vertical-align: middle;\n",
       "    }\n",
       "\n",
       "    .dataframe tbody tr th {\n",
       "        vertical-align: top;\n",
       "    }\n",
       "\n",
       "    .dataframe thead th {\n",
       "        text-align: right;\n",
       "    }\n",
       "</style>\n",
       "<table border=\"1\" class=\"dataframe\">\n",
       "  <thead>\n",
       "    <tr style=\"text-align: right;\">\n",
       "      <th></th>\n",
       "      <th>app</th>\n",
       "      <th>category</th>\n",
       "      <th>rating</th>\n",
       "      <th>reviews</th>\n",
       "      <th>size</th>\n",
       "      <th>installs</th>\n",
       "      <th>type</th>\n",
       "      <th>price</th>\n",
       "      <th>content_rating</th>\n",
       "      <th>genres</th>\n",
       "      <th>last_updated</th>\n",
       "      <th>current_ver</th>\n",
       "      <th>android_ver</th>\n",
       "    </tr>\n",
       "  </thead>\n",
       "  <tbody>\n",
       "    <tr>\n",
       "      <th>0</th>\n",
       "      <td>Photo Editor &amp; Candy Camera &amp; Grid &amp; ScrapBook</td>\n",
       "      <td>ART_AND_DESIGN</td>\n",
       "      <td>4.1</td>\n",
       "      <td>159</td>\n",
       "      <td>19M</td>\n",
       "      <td>10000</td>\n",
       "      <td>Free</td>\n",
       "      <td>0.0</td>\n",
       "      <td>Everyone</td>\n",
       "      <td>Art &amp; Design</td>\n",
       "      <td>2018-01-07</td>\n",
       "      <td>1.0.0</td>\n",
       "      <td>4.0.3 and up</td>\n",
       "    </tr>\n",
       "    <tr>\n",
       "      <th>1</th>\n",
       "      <td>Coloring book moana</td>\n",
       "      <td>ART_AND_DESIGN</td>\n",
       "      <td>3.9</td>\n",
       "      <td>967</td>\n",
       "      <td>14M</td>\n",
       "      <td>500000</td>\n",
       "      <td>Free</td>\n",
       "      <td>0.0</td>\n",
       "      <td>Everyone</td>\n",
       "      <td>Art &amp; Design;Pretend Play</td>\n",
       "      <td>2018-01-15</td>\n",
       "      <td>2.0.0</td>\n",
       "      <td>4.0.3 and up</td>\n",
       "    </tr>\n",
       "    <tr>\n",
       "      <th>2</th>\n",
       "      <td>U Launcher Lite – FREE Live Cool Themes, Hide ...</td>\n",
       "      <td>ART_AND_DESIGN</td>\n",
       "      <td>4.7</td>\n",
       "      <td>87510</td>\n",
       "      <td>8.7M</td>\n",
       "      <td>5000000</td>\n",
       "      <td>Free</td>\n",
       "      <td>0.0</td>\n",
       "      <td>Everyone</td>\n",
       "      <td>Art &amp; Design</td>\n",
       "      <td>2018-08-01</td>\n",
       "      <td>1.2.4</td>\n",
       "      <td>4.0.3 and up</td>\n",
       "    </tr>\n",
       "    <tr>\n",
       "      <th>3</th>\n",
       "      <td>Sketch - Draw &amp; Paint</td>\n",
       "      <td>ART_AND_DESIGN</td>\n",
       "      <td>4.5</td>\n",
       "      <td>215644</td>\n",
       "      <td>25M</td>\n",
       "      <td>50000000</td>\n",
       "      <td>Free</td>\n",
       "      <td>0.0</td>\n",
       "      <td>Teen</td>\n",
       "      <td>Art &amp; Design</td>\n",
       "      <td>2018-06-08</td>\n",
       "      <td>Varies with device</td>\n",
       "      <td>4.2 and up</td>\n",
       "    </tr>\n",
       "    <tr>\n",
       "      <th>4</th>\n",
       "      <td>Pixel Draw - Number Art Coloring Book</td>\n",
       "      <td>ART_AND_DESIGN</td>\n",
       "      <td>4.3</td>\n",
       "      <td>967</td>\n",
       "      <td>2.8M</td>\n",
       "      <td>100000</td>\n",
       "      <td>Free</td>\n",
       "      <td>0.0</td>\n",
       "      <td>Everyone</td>\n",
       "      <td>Art &amp; Design;Creativity</td>\n",
       "      <td>2018-06-20</td>\n",
       "      <td>1.1</td>\n",
       "      <td>4.4 and up</td>\n",
       "    </tr>\n",
       "  </tbody>\n",
       "</table>\n",
       "</div>"
      ],
      "text/plain": [
       "                                                 app        category  rating  \\\n",
       "0     Photo Editor & Candy Camera & Grid & ScrapBook  ART_AND_DESIGN     4.1   \n",
       "1                                Coloring book moana  ART_AND_DESIGN     3.9   \n",
       "2  U Launcher Lite – FREE Live Cool Themes, Hide ...  ART_AND_DESIGN     4.7   \n",
       "3                              Sketch - Draw & Paint  ART_AND_DESIGN     4.5   \n",
       "4              Pixel Draw - Number Art Coloring Book  ART_AND_DESIGN     4.3   \n",
       "\n",
       "   reviews  size  installs  type  price content_rating  \\\n",
       "0      159   19M     10000  Free    0.0       Everyone   \n",
       "1      967   14M    500000  Free    0.0       Everyone   \n",
       "2    87510  8.7M   5000000  Free    0.0       Everyone   \n",
       "3   215644   25M  50000000  Free    0.0           Teen   \n",
       "4      967  2.8M    100000  Free    0.0       Everyone   \n",
       "\n",
       "                      genres last_updated         current_ver   android_ver  \n",
       "0               Art & Design   2018-01-07               1.0.0  4.0.3 and up  \n",
       "1  Art & Design;Pretend Play   2018-01-15               2.0.0  4.0.3 and up  \n",
       "2               Art & Design   2018-08-01               1.2.4  4.0.3 and up  \n",
       "3               Art & Design   2018-06-08  Varies with device    4.2 and up  \n",
       "4    Art & Design;Creativity   2018-06-20                 1.1    4.4 and up  "
      ]
     },
     "execution_count": 277,
     "metadata": {},
     "output_type": "execute_result"
    }
   ],
   "source": [
    "df_unique.head()"
   ]
  },
  {
   "cell_type": "markdown",
   "id": "f3435d80",
   "metadata": {},
   "source": [
    "### Доля бесплатных приложений"
   ]
  },
  {
   "cell_type": "code",
   "execution_count": 278,
   "id": "82330acb",
   "metadata": {},
   "outputs": [
    {
     "data": {
      "text/plain": [
       "0.9217310280567347"
      ]
     },
     "execution_count": 278,
     "metadata": {},
     "output_type": "execute_result"
    }
   ],
   "source": [
    "df_unique.price.value_counts(normalize=True)[0.00]"
   ]
  },
  {
   "cell_type": "markdown",
   "id": "484facf8",
   "metadata": {},
   "source": [
    "### Образовательные проекты с количеством отзывов > 1000 "
   ]
  },
  {
   "cell_type": "code",
   "execution_count": 279,
   "id": "fd0e7e40",
   "metadata": {},
   "outputs": [],
   "source": [
    "edu_app = df_unique[\n",
    "    (df_unique.category == 'EDUCATION') \n",
    "    & (df_unique.reviews > 1000)] \\\n",
    "    .reset_index() \\\n",
    "    .drop('index', axis=1)"
   ]
  },
  {
   "cell_type": "code",
   "execution_count": 280,
   "id": "21f90fd7",
   "metadata": {},
   "outputs": [
    {
     "data": {
      "text/html": [
       "<div>\n",
       "<style scoped>\n",
       "    .dataframe tbody tr th:only-of-type {\n",
       "        vertical-align: middle;\n",
       "    }\n",
       "\n",
       "    .dataframe tbody tr th {\n",
       "        vertical-align: top;\n",
       "    }\n",
       "\n",
       "    .dataframe thead th {\n",
       "        text-align: right;\n",
       "    }\n",
       "</style>\n",
       "<table border=\"1\" class=\"dataframe\">\n",
       "  <thead>\n",
       "    <tr style=\"text-align: right;\">\n",
       "      <th></th>\n",
       "      <th>app</th>\n",
       "      <th>category</th>\n",
       "      <th>rating</th>\n",
       "      <th>reviews</th>\n",
       "      <th>size</th>\n",
       "      <th>installs</th>\n",
       "      <th>type</th>\n",
       "      <th>price</th>\n",
       "      <th>content_rating</th>\n",
       "      <th>genres</th>\n",
       "      <th>last_updated</th>\n",
       "      <th>current_ver</th>\n",
       "      <th>android_ver</th>\n",
       "    </tr>\n",
       "  </thead>\n",
       "  <tbody>\n",
       "    <tr>\n",
       "      <th>0</th>\n",
       "      <td>Duolingo: Learn Languages Free</td>\n",
       "      <td>EDUCATION</td>\n",
       "      <td>4.7</td>\n",
       "      <td>6289924</td>\n",
       "      <td>Varies with device</td>\n",
       "      <td>100000000</td>\n",
       "      <td>Free</td>\n",
       "      <td>0.0</td>\n",
       "      <td>Everyone</td>\n",
       "      <td>Education;Education</td>\n",
       "      <td>2018-08-01</td>\n",
       "      <td>Varies with device</td>\n",
       "      <td>Varies with device</td>\n",
       "    </tr>\n",
       "    <tr>\n",
       "      <th>1</th>\n",
       "      <td>TED</td>\n",
       "      <td>EDUCATION</td>\n",
       "      <td>4.6</td>\n",
       "      <td>181893</td>\n",
       "      <td>18M</td>\n",
       "      <td>10000000</td>\n",
       "      <td>Free</td>\n",
       "      <td>0.0</td>\n",
       "      <td>Everyone 10+</td>\n",
       "      <td>Education</td>\n",
       "      <td>2018-07-27</td>\n",
       "      <td>3.2.5</td>\n",
       "      <td>4.1 and up</td>\n",
       "    </tr>\n",
       "    <tr>\n",
       "      <th>2</th>\n",
       "      <td>English Communication - Learn English for Chin...</td>\n",
       "      <td>EDUCATION</td>\n",
       "      <td>4.7</td>\n",
       "      <td>2544</td>\n",
       "      <td>18M</td>\n",
       "      <td>100000</td>\n",
       "      <td>Free</td>\n",
       "      <td>0.0</td>\n",
       "      <td>Everyone</td>\n",
       "      <td>Education</td>\n",
       "      <td>2017-12-29</td>\n",
       "      <td>3.1</td>\n",
       "      <td>4.0 and up</td>\n",
       "    </tr>\n",
       "    <tr>\n",
       "      <th>3</th>\n",
       "      <td>Khan Academy</td>\n",
       "      <td>EDUCATION</td>\n",
       "      <td>4.6</td>\n",
       "      <td>85375</td>\n",
       "      <td>21M</td>\n",
       "      <td>5000000</td>\n",
       "      <td>Free</td>\n",
       "      <td>0.0</td>\n",
       "      <td>Everyone</td>\n",
       "      <td>Education</td>\n",
       "      <td>2018-07-27</td>\n",
       "      <td>5.0.0</td>\n",
       "      <td>4.1 and up</td>\n",
       "    </tr>\n",
       "    <tr>\n",
       "      <th>4</th>\n",
       "      <td>Learn English with Wlingua</td>\n",
       "      <td>EDUCATION</td>\n",
       "      <td>4.7</td>\n",
       "      <td>314299</td>\n",
       "      <td>3.3M</td>\n",
       "      <td>10000000</td>\n",
       "      <td>Free</td>\n",
       "      <td>0.0</td>\n",
       "      <td>Everyone</td>\n",
       "      <td>Education</td>\n",
       "      <td>2018-05-02</td>\n",
       "      <td>1.94.9</td>\n",
       "      <td>4.0 and up</td>\n",
       "    </tr>\n",
       "  </tbody>\n",
       "</table>\n",
       "</div>"
      ],
      "text/plain": [
       "                                                 app   category  rating  \\\n",
       "0                     Duolingo: Learn Languages Free  EDUCATION     4.7   \n",
       "1                                                TED  EDUCATION     4.6   \n",
       "2  English Communication - Learn English for Chin...  EDUCATION     4.7   \n",
       "3                                       Khan Academy  EDUCATION     4.6   \n",
       "4                         Learn English with Wlingua  EDUCATION     4.7   \n",
       "\n",
       "   reviews                size   installs  type  price content_rating  \\\n",
       "0  6289924  Varies with device  100000000  Free    0.0       Everyone   \n",
       "1   181893                 18M   10000000  Free    0.0   Everyone 10+   \n",
       "2     2544                 18M     100000  Free    0.0       Everyone   \n",
       "3    85375                 21M    5000000  Free    0.0       Everyone   \n",
       "4   314299                3.3M   10000000  Free    0.0       Everyone   \n",
       "\n",
       "                genres last_updated         current_ver         android_ver  \n",
       "0  Education;Education   2018-08-01  Varies with device  Varies with device  \n",
       "1            Education   2018-07-27               3.2.5          4.1 and up  \n",
       "2            Education   2017-12-29                 3.1          4.0 and up  \n",
       "3            Education   2018-07-27               5.0.0          4.1 and up  \n",
       "4            Education   2018-05-02              1.94.9          4.0 and up  "
      ]
     },
     "execution_count": 280,
     "metadata": {},
     "output_type": "execute_result"
    }
   ],
   "source": [
    "edu_app.head()"
   ]
  },
  {
   "cell_type": "markdown",
   "id": "b1d4fa4b",
   "metadata": {},
   "source": [
    "### Средний рейтинг, количество отзывов и стоимость в зависимости от категории"
   ]
  },
  {
   "cell_type": "code",
   "execution_count": 283,
   "id": "dff236b3",
   "metadata": {},
   "outputs": [],
   "source": [
    "df_by_category = pd.pivot_table(df_unique, \n",
    "               values=['price', 'rating', 'reviews'],\n",
    "               index=['category', 'type'],\n",
    "               aggfunc={'price': 'mean', 'rating': 'mean', 'reviews': 'mean'}\n",
    "              ).rename(columns={\n",
    "                        'price': 'mean_price',\n",
    "                        'rating': 'mean_rating',\n",
    "                        'reviews': 'mean_reviews'})"
   ]
  },
  {
   "cell_type": "code",
   "execution_count": 284,
   "id": "64f5fc66",
   "metadata": {},
   "outputs": [],
   "source": [
    "df_by_category.mean_price = df_by_category.mean_price.round(2)\n",
    "df_by_category.mean_rating = df_by_category.mean_rating.round(1)\n",
    "df_by_category.mean_reviews = df_by_category.mean_reviews.round(2)"
   ]
  },
  {
   "cell_type": "code",
   "execution_count": 253,
   "id": "7b920f8a",
   "metadata": {},
   "outputs": [],
   "source": [
    "df_by_category.to_csv('task12.csv', sep=',')"
   ]
  },
  {
   "cell_type": "code",
   "execution_count": 285,
   "id": "098c04a9",
   "metadata": {},
   "outputs": [
    {
     "data": {
      "text/html": [
       "<div>\n",
       "<style scoped>\n",
       "    .dataframe tbody tr th:only-of-type {\n",
       "        vertical-align: middle;\n",
       "    }\n",
       "\n",
       "    .dataframe tbody tr th {\n",
       "        vertical-align: top;\n",
       "    }\n",
       "\n",
       "    .dataframe thead th {\n",
       "        text-align: right;\n",
       "    }\n",
       "</style>\n",
       "<table border=\"1\" class=\"dataframe\">\n",
       "  <thead>\n",
       "    <tr style=\"text-align: right;\">\n",
       "      <th></th>\n",
       "      <th></th>\n",
       "      <th>mean_price</th>\n",
       "      <th>mean_rating</th>\n",
       "      <th>mean_reviews</th>\n",
       "    </tr>\n",
       "    <tr>\n",
       "      <th>category</th>\n",
       "      <th>type</th>\n",
       "      <th></th>\n",
       "      <th></th>\n",
       "      <th></th>\n",
       "    </tr>\n",
       "  </thead>\n",
       "  <tbody>\n",
       "    <tr>\n",
       "      <th rowspan=\"2\" valign=\"top\">ART_AND_DESIGN</th>\n",
       "      <th>Free</th>\n",
       "      <td>0.00</td>\n",
       "      <td>4.3</td>\n",
       "      <td>23230.11</td>\n",
       "    </tr>\n",
       "    <tr>\n",
       "      <th>Paid</th>\n",
       "      <td>1.99</td>\n",
       "      <td>4.7</td>\n",
       "      <td>722.00</td>\n",
       "    </tr>\n",
       "    <tr>\n",
       "      <th rowspan=\"2\" valign=\"top\">AUTO_AND_VEHICLES</th>\n",
       "      <th>Free</th>\n",
       "      <td>0.00</td>\n",
       "      <td>4.2</td>\n",
       "      <td>14140.28</td>\n",
       "    </tr>\n",
       "    <tr>\n",
       "      <th>Paid</th>\n",
       "      <td>4.49</td>\n",
       "      <td>4.6</td>\n",
       "      <td>1387.67</td>\n",
       "    </tr>\n",
       "    <tr>\n",
       "      <th>BEAUTY</th>\n",
       "      <th>Free</th>\n",
       "      <td>0.00</td>\n",
       "      <td>4.3</td>\n",
       "      <td>7476.23</td>\n",
       "    </tr>\n",
       "  </tbody>\n",
       "</table>\n",
       "</div>"
      ],
      "text/plain": [
       "                        mean_price  mean_rating  mean_reviews\n",
       "category          type                                       \n",
       "ART_AND_DESIGN    Free        0.00          4.3      23230.11\n",
       "                  Paid        1.99          4.7        722.00\n",
       "AUTO_AND_VEHICLES Free        0.00          4.2      14140.28\n",
       "                  Paid        4.49          4.6       1387.67\n",
       "BEAUTY            Free        0.00          4.3       7476.23"
      ]
     },
     "execution_count": 285,
     "metadata": {},
     "output_type": "execute_result"
    }
   ],
   "source": [
    "df_by_category.head()"
   ]
  }
 ],
 "metadata": {
  "kernelspec": {
   "display_name": "Python 3 (ipykernel)",
   "language": "python",
   "name": "python3"
  },
  "language_info": {
   "codemirror_mode": {
    "name": "ipython",
    "version": 3
   },
   "file_extension": ".py",
   "mimetype": "text/x-python",
   "name": "python",
   "nbconvert_exporter": "python",
   "pygments_lexer": "ipython3",
   "version": "3.11.5"
  }
 },
 "nbformat": 4,
 "nbformat_minor": 5
}
